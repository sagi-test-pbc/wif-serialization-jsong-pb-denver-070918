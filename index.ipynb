{
 "cells": [
  {
   "cell_type": "markdown",
   "metadata": {},
   "source": [
    "# WIF Serialization\n",
    "\n",
    "WIF is the serialization of a Private Key.\n",
    "\n",
    "#### Find the WIF Format of the following:\n",
    "\n",
    "* \\\\(2^{256}-2^{199}\\\\), mainnet, compressed\n",
    "* \\\\(2^{256}-2^{201}\\\\), testnet, uncompressed\n",
    "* 0dba685b4511dbd3d368e5c4358a1277de9486447af7b3604a69b8d9d8b7889d, mainnet, uncompressed\n",
    "* 1cca23de92fd1862fb5b76e5f4f50eb082165e5191e116c18ed1a6b24be6a53f, testnet, compressed"
   ]
  },
  {
   "cell_type": "code",
   "execution_count": 1,
   "metadata": {},
   "outputs": [
    {
     "name": "stdout",
     "output_type": "stream",
     "text": [
      "5Km2kuu7vtF1mmnTprG5Qtchx5NYEBHp9X1nm6v1dNJSND1E5Ge\n",
      "L5oLkpV3aqArQcffQCRYUSpbk6J4qARD6bUUyf6ymX1xxX9iVxpK\n",
      "93XfLeifX7K9jqHkTC9zHVAfbjjFPLq1VTsjqjGWy73V9JUWGuo\n",
      "cWALDjUu1ts7a48vncEfqmKfNKbUVcWuAdcx65ZVGdfyDGDYyszf\n"
     ]
    }
   ],
   "source": [
    "# WIF Example\n",
    "from helper import encode_base58_checksum\n",
    "\n",
    "secret = 2**256 - 2**200\n",
    "s = secret.to_bytes(32, 'big')\n",
    "print(encode_base58_checksum(b'\\x80'+s))\n",
    "print(encode_base58_checksum(b'\\x80'+s+b'\\x01'))\n",
    "print(encode_base58_checksum(b'\\xef'+s))\n",
    "print(encode_base58_checksum(b'\\xef'+s+b'\\x01'))"
   ]
  },
  {
   "cell_type": "markdown",
   "metadata": {},
   "source": [
    "### Try it"
   ]
  },
  {
   "cell_type": "code",
   "execution_count": null,
   "metadata": {},
   "outputs": [],
   "source": [
    "from helper import encode_base58_checksum\n",
    "\n",
    "components = (\n",
    "    # (secret, testnet, compressed)\n",
    "    (2**256-2**199, False, True),\n",
    "    (2**256-2**201, True, False),\n",
    "    (0x0dba685b4511dbd3d368e5c4358a1277de9486447af7b3604a69b8d9d8b7889d, False, False),\n",
    "    (0x1cca23de92fd1862fb5b76e5f4f50eb082165e5191e116c18ed1a6b24be6a53f, True, True),\n",
    ")\n",
    "\n",
    "# iterate through components\n",
    "    # get the private key in 32-byte big-endian: num.to_bytes(32, 'big')\n",
    "    # prepend b'\\x80' for mainnet, b'\\xef' for testnet\n",
    "    # append b'\\x01' for compressed\n",
    "    # base58 the whole thing with checksum\n",
    "    # print the wif"
   ]
  },
  {
   "cell_type": "markdown",
   "metadata": {},
   "source": [
    "### Test Driven Exercise"
   ]
  },
  {
   "cell_type": "code",
   "execution_count": 10,
   "metadata": {},
   "outputs": [],
   "source": [
    "# Exercise 3.2\n",
    "from ecc import PrivateKey\n",
    "\n",
    "class PrivateKey(PrivateKey):\n",
    "\n",
    "    def wif(self, compressed=True, testnet=False):\n",
    "        # convert the secret from integer to a 32-bytes in big endian using num.to_bytes(32, 'big')\n",
    "        # prepend b'\\xef' on testnet, b'\\x80' on mainnet\n",
    "        # append b'\\x01' if compressed\n",
    "        # encode_base58_checksum the whole thing\n",
    "        pass"
   ]
  }
 ],
 "metadata": {
  "kernelspec": {
   "display_name": "Python 3",
   "language": "python",
   "name": "python3"
  },
  "language_info": {
   "codemirror_mode": {
    "name": "ipython",
    "version": 3
   },
   "file_extension": ".py",
   "mimetype": "text/x-python",
   "name": "python",
   "nbconvert_exporter": "python",
   "pygments_lexer": "ipython3",
   "version": "3.6.4"
  }
 },
 "nbformat": 4,
 "nbformat_minor": 2
}
